{
 "cells": [
  {
   "cell_type": "code",
   "execution_count": 8,
   "metadata": {},
   "outputs": [],
   "source": [
    "# Import needed modules\n",
    "import pandas as pd\n",
    "from deep_translator import GoogleTranslator\n",
    "import matplotlib.pyplot as plt"
   ]
  },
  {
   "cell_type": "markdown",
   "metadata": {},
   "source": [
    "## Data cleaning"
   ]
  },
  {
   "cell_type": "code",
   "execution_count": null,
   "metadata": {},
   "outputs": [],
   "source": [
    "# Open the data set\n",
    "df = pd.read_csv(\"rus_t.csv\")\n",
    "df.dropna(inplace=True)\n",
    "df"
   ]
  },
  {
   "cell_type": "code",
   "execution_count": 5,
   "metadata": {},
   "outputs": [
    {
     "data": {
      "text/html": [
       "<div>\n",
       "<style scoped>\n",
       "    .dataframe tbody tr th:only-of-type {\n",
       "        vertical-align: middle;\n",
       "    }\n",
       "\n",
       "    .dataframe tbody tr th {\n",
       "        vertical-align: top;\n",
       "    }\n",
       "\n",
       "    .dataframe thead th {\n",
       "        text-align: right;\n",
       "    }\n",
       "</style>\n",
       "<table border=\"1\" class=\"dataframe\">\n",
       "  <thead>\n",
       "    <tr style=\"text-align: right;\">\n",
       "      <th></th>\n",
       "      <th>country</th>\n",
       "      <th>n_inbound</th>\n",
       "      <th>year</th>\n",
       "    </tr>\n",
       "  </thead>\n",
       "  <tbody>\n",
       "    <tr>\n",
       "      <th>0</th>\n",
       "      <td>Ukraine</td>\n",
       "      <td>8436</td>\n",
       "      <td>2014</td>\n",
       "    </tr>\n",
       "    <tr>\n",
       "      <th>1</th>\n",
       "      <td>Kazakhstan</td>\n",
       "      <td>3733</td>\n",
       "      <td>2014</td>\n",
       "    </tr>\n",
       "    <tr>\n",
       "      <th>2</th>\n",
       "      <td>Poland</td>\n",
       "      <td>1772</td>\n",
       "      <td>2014</td>\n",
       "    </tr>\n",
       "    <tr>\n",
       "      <th>3</th>\n",
       "      <td>Finland</td>\n",
       "      <td>1380</td>\n",
       "      <td>2014</td>\n",
       "    </tr>\n",
       "    <tr>\n",
       "      <th>4</th>\n",
       "      <td>Uzbekistan</td>\n",
       "      <td>874</td>\n",
       "      <td>2014</td>\n",
       "    </tr>\n",
       "    <tr>\n",
       "      <th>...</th>\n",
       "      <td>...</td>\n",
       "      <td>...</td>\n",
       "      <td>...</td>\n",
       "    </tr>\n",
       "    <tr>\n",
       "      <th>503</th>\n",
       "      <td>Estonia</td>\n",
       "      <td>54</td>\n",
       "      <td>2022</td>\n",
       "    </tr>\n",
       "    <tr>\n",
       "      <th>504</th>\n",
       "      <td>South Ossetia</td>\n",
       "      <td>146</td>\n",
       "      <td>2022</td>\n",
       "    </tr>\n",
       "    <tr>\n",
       "      <th>505</th>\n",
       "      <td>South Africa</td>\n",
       "      <td>1</td>\n",
       "      <td>2022</td>\n",
       "    </tr>\n",
       "    <tr>\n",
       "      <th>506</th>\n",
       "      <td>Japan</td>\n",
       "      <td>2</td>\n",
       "      <td>2022</td>\n",
       "    </tr>\n",
       "    <tr>\n",
       "      <th>507</th>\n",
       "      <td>Other countries</td>\n",
       "      <td>1135</td>\n",
       "      <td>2022</td>\n",
       "    </tr>\n",
       "  </tbody>\n",
       "</table>\n",
       "<p>508 rows × 3 columns</p>\n",
       "</div>"
      ],
      "text/plain": [
       "             country  n_inbound  year\n",
       "0            Ukraine       8436  2014\n",
       "1         Kazakhstan       3733  2014\n",
       "2             Poland       1772  2014\n",
       "3            Finland       1380  2014\n",
       "4         Uzbekistan        874  2014\n",
       "..               ...        ...   ...\n",
       "503          Estonia         54  2022\n",
       "504    South Ossetia        146  2022\n",
       "505     South Africa          1  2022\n",
       "506            Japan          2  2022\n",
       "507  Other countries       1135  2022\n",
       "\n",
       "[508 rows x 3 columns]"
      ]
     },
     "execution_count": 5,
     "metadata": {},
     "output_type": "execute_result"
    }
   ],
   "source": [
    "# Translate to English\n",
    "translator = GoogleTranslator(source='ru', target='en')\n",
    "df[\"country\"] = df[\"country\"].apply(translator.translate)\n",
    "df"
   ]
  },
  {
   "cell_type": "code",
   "execution_count": 6,
   "metadata": {},
   "outputs": [],
   "source": [
    "# Save the fixed dataset\n",
    "# df.to_csv(\"rus_t.csv\")"
   ]
  },
  {
   "cell_type": "markdown",
   "metadata": {},
   "source": [
    "## Data exploration"
   ]
  },
  {
   "cell_type": "code",
   "execution_count": 32,
   "metadata": {},
   "outputs": [
    {
     "data": {
      "text/html": [
       "<div>\n",
       "<style scoped>\n",
       "    .dataframe tbody tr th:only-of-type {\n",
       "        vertical-align: middle;\n",
       "    }\n",
       "\n",
       "    .dataframe tbody tr th {\n",
       "        vertical-align: top;\n",
       "    }\n",
       "\n",
       "    .dataframe thead th {\n",
       "        text-align: right;\n",
       "    }\n",
       "</style>\n",
       "<table border=\"1\" class=\"dataframe\">\n",
       "  <thead>\n",
       "    <tr style=\"text-align: right;\">\n",
       "      <th></th>\n",
       "      <th>n_inbound</th>\n",
       "    </tr>\n",
       "    <tr>\n",
       "      <th>year</th>\n",
       "      <th></th>\n",
       "    </tr>\n",
       "  </thead>\n",
       "  <tbody>\n",
       "    <tr>\n",
       "      <th>2014</th>\n",
       "      <td>25437</td>\n",
       "    </tr>\n",
       "    <tr>\n",
       "      <th>2015</th>\n",
       "      <td>26850</td>\n",
       "    </tr>\n",
       "    <tr>\n",
       "      <th>2016</th>\n",
       "      <td>24571</td>\n",
       "    </tr>\n",
       "    <tr>\n",
       "      <th>2017</th>\n",
       "      <td>24391</td>\n",
       "    </tr>\n",
       "    <tr>\n",
       "      <th>2018</th>\n",
       "      <td>24551</td>\n",
       "    </tr>\n",
       "    <tr>\n",
       "      <th>2019</th>\n",
       "      <td>24419</td>\n",
       "    </tr>\n",
       "    <tr>\n",
       "      <th>2020</th>\n",
       "      <td>6363</td>\n",
       "    </tr>\n",
       "    <tr>\n",
       "      <th>2021</th>\n",
       "      <td>7082</td>\n",
       "    </tr>\n",
       "    <tr>\n",
       "      <th>2022</th>\n",
       "      <td>8242</td>\n",
       "    </tr>\n",
       "  </tbody>\n",
       "</table>\n",
       "</div>"
      ],
      "text/plain": [
       "      n_inbound\n",
       "year           \n",
       "2014      25437\n",
       "2015      26850\n",
       "2016      24571\n",
       "2017      24391\n",
       "2018      24551\n",
       "2019      24419\n",
       "2020       6363\n",
       "2021       7082\n",
       "2022       8242"
      ]
     },
     "execution_count": 32,
     "metadata": {},
     "output_type": "execute_result"
    }
   ],
   "source": [
    "df.groupby(\"year\").sum()"
   ]
  },
  {
   "cell_type": "code",
   "execution_count": 18,
   "metadata": {},
   "outputs": [
    {
     "data": {
      "text/plain": [
       "Text(0, 0.5, 'Number of inbound tourists')"
      ]
     },
     "execution_count": 18,
     "metadata": {},
     "output_type": "execute_result"
    },
    {
     "data": {
      "image/png": "[encoded data removed]",
      "text/plain": [
       "<Figure size 432x288 with 1 Axes>"
      ]
     },
     "metadata": {
      "needs_background": "light"
     },
     "output_type": "display_data"
    }
   ],
   "source": [
    "# Line chart - general dynamics\n",
    "fig  = plt.figure()\n",
    "ax   = plt.axes()\n",
    "ax.plot(df.groupby(\"year\").sum().index, df.groupby(\"year\").sum()[\"n_inbound\"])\n",
    "ax.set_xlabel('Year')\n",
    "ax.set_ylabel('Number of inbound tourists')\n",
    "#ax.set_title('Number of inbound tourists in Russia')"
   ]
  },
  {
   "cell_type": "code",
   "execution_count": 54,
   "metadata": {},
   "outputs": [
    {
     "name": "stdout",
     "output_type": "stream",
     "text": [
      "\\begin{tabular}{lrrr}\n",
      "\\toprule\n",
      "{} &  year &  unique\\_cnt &  others\\_shr \\\\\n",
      "\\midrule\n",
      "0 &  2014 &          26 &         6.5 \\\\\n",
      "1 &  2015 &          26 &         6.2 \\\\\n",
      "2 &  2016 &          61 &         1.8 \\\\\n",
      "3 &  2017 &          61 &         2.1 \\\\\n",
      "4 &  2018 &          66 &         2.3 \\\\\n",
      "5 &  2019 &          67 &         2.0 \\\\\n",
      "6 &  2020 &          67 &         1.5 \\\\\n",
      "7 &  2021 &          67 &         1.0 \\\\\n",
      "8 &  2022 &          67 &        13.8 \\\\\n",
      "\\bottomrule\n",
      "\\end{tabular}\n",
      "\n"
     ]
    },
    {
     "name": "stderr",
     "output_type": "stream",
     "text": [
      "<ipython-input-54-0eef64c0e6cd>:4: UserWarning: Boolean Series key will be reindexed to match DataFrame index.\n",
      "  \"others_shr\" : [round(df[df[\"year\"] == year][df[\"country\"] == \"Other countries\"].loc[:,\"n_inbound\"].item() / df.groupby(\"year\").sum().loc[year].item() * 100, 1) for year in range(2014, 2023)]}\n"
     ]
    }
   ],
   "source": [
    "# Unique countries every year\n",
    "d = {\"year\" : [year for year in range(2014, 2023)],\n",
    "    \"unique_cnt\" : [df[df[\"year\"] == year].shape[0] for year in range(2014, 2023)],\n",
    "    \"others_shr\" : [round(df[df[\"year\"] == year][df[\"country\"] == \"Other countries\"].loc[:,\"n_inbound\"].item() / df.groupby(\"year\").sum().loc[year].item() * 100, 1) for year in range(2014, 2023)]}\n",
    "\n",
    "app4 = pd.DataFrame.from_dict(d)\n",
    "print(app4.to_latex())"
   ]
  },
  {
   "cell_type": "code",
   "execution_count": 89,
   "metadata": {},
   "outputs": [
    {
     "name": "stdout",
     "output_type": "stream",
     "text": [
      "Italy, Kazakhstan, Belarus, Germany, Armenia, Kyrgyzstan, Poland, USA, Latvia, Estonia, Finland, China, Great Britain, Korea, Lithuania, Israel, Tajikistan, The Republic of Moldova, Abkhazia, Uzbekistan, Ukraine, Türkiye, Azerbaijan, France, Mongolia, "
     ]
    },
    {
     "data": {
      "text/plain": [
       "[None,\n",
       " None,\n",
       " None,\n",
       " None,\n",
       " None,\n",
       " None,\n",
       " None,\n",
       " None,\n",
       " None,\n",
       " None,\n",
       " None,\n",
       " None,\n",
       " None,\n",
       " None,\n",
       " None,\n",
       " None,\n",
       " None,\n",
       " None,\n",
       " None,\n",
       " None,\n",
       " None,\n",
       " None,\n",
       " None,\n",
       " None,\n",
       " None]"
      ]
     },
     "execution_count": 89,
     "metadata": {},
     "output_type": "execute_result"
    }
   ],
   "source": [
    "cont = set(df[df[\"year\"] == 2014][\"country\"].unique())\n",
    "for year in range(2015, 2023):\n",
    "    cont.intersection(set(df[df[\"year\"] == year][\"country\"].unique()))\n",
    "cont - {'Other countries'}\n",
    "[print(country, end=\", \") for country in cont - {'Other countries'}]"
   ]
  },
  {
   "cell_type": "code",
   "execution_count": 62,
   "metadata": {},
   "outputs": [
    {
     "data": {
      "text/plain": [
       "{'Abkhazia',\n",
       " 'Armenia',\n",
       " 'Azerbaijan',\n",
       " 'Belarus',\n",
       " 'China',\n",
       " 'Estonia',\n",
       " 'Finland',\n",
       " 'France',\n",
       " 'Germany',\n",
       " 'Great Britain',\n",
       " 'Israel',\n",
       " 'Italy',\n",
       " 'Kazakhstan',\n",
       " 'Korea',\n",
       " 'Kyrgyzstan',\n",
       " 'Latvia',\n",
       " 'Lithuania',\n",
       " 'Mongolia',\n",
       " 'Other countries',\n",
       " 'Poland',\n",
       " 'Tajikistan',\n",
       " 'The Republic of Moldova',\n",
       " 'Türkiye',\n",
       " 'USA',\n",
       " 'Ukraine',\n",
       " 'Uzbekistan'}"
      ]
     },
     "execution_count": 62,
     "metadata": {},
     "output_type": "execute_result"
    }
   ],
   "source": [
    "set(df[df[\"year\"] == 2014][\"country\"].unique())"
   ]
  },
  {
   "cell_type": "code",
   "execution_count": 101,
   "metadata": {},
   "outputs": [
    {
     "name": "stderr",
     "output_type": "stream",
     "text": [
      "<ipython-input-101-df10e8476d57>:8: UserWarning: Boolean Series key will be reindexed to match DataFrame index.\n",
      "  cnty_lst.append(df[df[\"country\"] == country][df[\"year\"] == year + 1][\"n_inbound\"].item())\n",
      "<ipython-input-101-df10e8476d57>:9: UserWarning: Boolean Series key will be reindexed to match DataFrame index.\n",
      "  cnty_lst.append(round(df[df[\"country\"] == country][df[\"year\"] == year + 1][\"n_inbound\"].item() / df[df[\"country\"] == country][df[\"year\"] == year][\"n_inbound\"].item() * 100 - 100, 2))\n"
     ]
    },
    {
     "data": {
      "text/html": [
       "<div>\n",
       "<style scoped>\n",
       "    .dataframe tbody tr th:only-of-type {\n",
       "        vertical-align: middle;\n",
       "    }\n",
       "\n",
       "    .dataframe tbody tr th {\n",
       "        vertical-align: top;\n",
       "    }\n",
       "\n",
       "    .dataframe thead th {\n",
       "        text-align: right;\n",
       "    }\n",
       "</style>\n",
       "<table border=\"1\" class=\"dataframe\">\n",
       "  <thead>\n",
       "    <tr style=\"text-align: right;\">\n",
       "      <th></th>\n",
       "      <th>country</th>\n",
       "      <th>year</th>\n",
       "      <th>n_inbound</th>\n",
       "      <th>growth</th>\n",
       "    </tr>\n",
       "  </thead>\n",
       "  <tbody>\n",
       "    <tr>\n",
       "      <th>0</th>\n",
       "      <td>Italy</td>\n",
       "      <td>2015</td>\n",
       "      <td>191.0</td>\n",
       "      <td>-7.73</td>\n",
       "    </tr>\n",
       "    <tr>\n",
       "      <th>1</th>\n",
       "      <td>Italy</td>\n",
       "      <td>2016</td>\n",
       "      <td>192.0</td>\n",
       "      <td>0.52</td>\n",
       "    </tr>\n",
       "    <tr>\n",
       "      <th>2</th>\n",
       "      <td>Italy</td>\n",
       "      <td>2017</td>\n",
       "      <td>189.0</td>\n",
       "      <td>-1.56</td>\n",
       "    </tr>\n",
       "    <tr>\n",
       "      <th>3</th>\n",
       "      <td>Italy</td>\n",
       "      <td>2018</td>\n",
       "      <td>205.0</td>\n",
       "      <td>8.47</td>\n",
       "    </tr>\n",
       "    <tr>\n",
       "      <th>4</th>\n",
       "      <td>Italy</td>\n",
       "      <td>2019</td>\n",
       "      <td>232.0</td>\n",
       "      <td>13.17</td>\n",
       "    </tr>\n",
       "    <tr>\n",
       "      <th>...</th>\n",
       "      <td>...</td>\n",
       "      <td>...</td>\n",
       "      <td>...</td>\n",
       "      <td>...</td>\n",
       "    </tr>\n",
       "    <tr>\n",
       "      <th>183</th>\n",
       "      <td>Mongolia</td>\n",
       "      <td>2018</td>\n",
       "      <td>387.0</td>\n",
       "      <td>-2.27</td>\n",
       "    </tr>\n",
       "    <tr>\n",
       "      <th>184</th>\n",
       "      <td>Mongolia</td>\n",
       "      <td>2019</td>\n",
       "      <td>376.0</td>\n",
       "      <td>-2.84</td>\n",
       "    </tr>\n",
       "    <tr>\n",
       "      <th>185</th>\n",
       "      <td>Mongolia</td>\n",
       "      <td>2020</td>\n",
       "      <td>45.0</td>\n",
       "      <td>-88.03</td>\n",
       "    </tr>\n",
       "    <tr>\n",
       "      <th>186</th>\n",
       "      <td>Mongolia</td>\n",
       "      <td>2021</td>\n",
       "      <td>3.0</td>\n",
       "      <td>-93.33</td>\n",
       "    </tr>\n",
       "    <tr>\n",
       "      <th>187</th>\n",
       "      <td>Mongolia</td>\n",
       "      <td>2022</td>\n",
       "      <td>158.0</td>\n",
       "      <td>5166.67</td>\n",
       "    </tr>\n",
       "  </tbody>\n",
       "</table>\n",
       "<p>188 rows × 4 columns</p>\n",
       "</div>"
      ],
      "text/plain": [
       "      country  year  n_inbound   growth\n",
       "0       Italy  2015      191.0    -7.73\n",
       "1       Italy  2016      192.0     0.52\n",
       "2       Italy  2017      189.0    -1.56\n",
       "3       Italy  2018      205.0     8.47\n",
       "4       Italy  2019      232.0    13.17\n",
       "..        ...   ...        ...      ...\n",
       "183  Mongolia  2018      387.0    -2.27\n",
       "184  Mongolia  2019      376.0    -2.84\n",
       "185  Mongolia  2020       45.0   -88.03\n",
       "186  Mongolia  2021        3.0   -93.33\n",
       "187  Mongolia  2022      158.0  5166.67\n",
       "\n",
       "[188 rows x 4 columns]"
      ]
     },
     "execution_count": 101,
     "metadata": {},
     "output_type": "execute_result"
    }
   ],
   "source": [
    "final_lst = []\n",
    "for country in cont - {'Other countries'}:\n",
    "    try:\n",
    "        for year in range(2014, 2022):\n",
    "            cnty_lst = []\n",
    "            cnty_lst.append(country)\n",
    "            cnty_lst.append(year + 1)\n",
    "            cnty_lst.append(df[df[\"country\"] == country][df[\"year\"] == year + 1][\"n_inbound\"].item())\n",
    "            cnty_lst.append(round(df[df[\"country\"] == country][df[\"year\"] == year + 1][\"n_inbound\"].item() / df[df[\"country\"] == country][df[\"year\"] == year][\"n_inbound\"].item() * 100 - 100, 2))\n",
    "            final_lst.append(cnty_lst)\n",
    "    except:\n",
    "        cnty_lst.append(None)\n",
    "        final_lst.append(cnty_lst)\n",
    "    \n",
    "change_df = pd.DataFrame(final_lst, columns=[\"country\", \"year\", \"n_inbound\", \"growth\"])\n",
    "change_df"
   ]
  },
  {
   "cell_type": "code",
   "execution_count": 135,
   "metadata": {},
   "outputs": [
    {
     "data": {
      "text/plain": [
       "Text(0, 0.5, 'Number of inbound tourists')"
      ]
     },
     "execution_count": 135,
     "metadata": {},
     "output_type": "execute_result"
    },
    {
     "data": {
      "image/png": "[encoded data removed]",
      "text/plain": [
       "<Figure size 432x576 with 1 Axes>"
      ]
     },
     "metadata": {
      "needs_background": "light"
     },
     "output_type": "display_data"
    }
   ],
   "source": [
    "fig  = plt.figure(figsize=(6, 8))\n",
    "ax   = plt.axes()\n",
    "ax.set_ylim([0, 1800])\n",
    "ax.plot(change_df[change_df[\"country\"] == \"Uzbekistan\"][\"year\"], change_df[change_df[\"country\"] == \"Uzbekistan\"][\"n_inbound\"], label=\"Uzbekistan\")\n",
    "ax.plot(change_df[change_df[\"country\"] == \"Armenia\"][\"year\"], change_df[change_df[\"country\"] == \"Armenia\"][\"n_inbound\"], label=\"Armenia\")\n",
    "ax.plot(change_df[change_df[\"country\"] == \"Belarus\"][\"year\"], change_df[change_df[\"country\"] == \"Belarus\"][\"n_inbound\"], label=\"Belarus\")\n",
    "ax.plot(change_df[change_df[\"country\"] == \"Kazakhstan\"][\"year\"], change_df[change_df[\"country\"] == \"Kazakhstan\"][\"n_inbound\"], label=\"Kazakhstan\")\n",
    "ax.plot(change_df[change_df[\"country\"] == \"Kyrgyzstan\"][\"year\"], change_df[change_df[\"country\"] == \"Kyrgyzstan\"][\"n_inbound\"], label=\"Kyrgyzstan\")\n",
    "ax.plot(change_df[change_df[\"country\"] == \"Tajikistan\"][\"year\"], change_df[change_df[\"country\"] == \"Tajikistan\"][\"n_inbound\"], label=\"Tajikistan\")\n",
    "ax.legend()\n",
    "ax.set_xlabel('Year')\n",
    "ax.set_ylabel('Number of inbound tourists')"
   ]
  },
  {
   "cell_type": "code",
   "execution_count": 148,
   "metadata": {},
   "outputs": [
    {
     "data": {
      "text/plain": [
       "Text(0, 0.5, 'Number of inbound tourists')"
      ]
     },
     "execution_count": 148,
     "metadata": {},
     "output_type": "execute_result"
    },
    {
     "data": {
      "image/png": "[encoded data removed]",
      "text/plain": [
       "<Figure size 288x288 with 1 Axes>"
      ]
     },
     "metadata": {
      "needs_background": "light"
     },
     "output_type": "display_data"
    }
   ],
   "source": [
    "fig  = plt.figure(figsize=(4, 4))\n",
    "ax   = plt.axes()\n",
    "ax.set_ylim([0, 9000])\n",
    "ax.plot(df[df[\"country\"] == \"Ukraine\"][\"year\"], df[df[\"country\"] == \"Ukraine\"][\"n_inbound\"], label=\"Ukraine\")\n",
    "#ax.legend()\n",
    "ax.set_xlabel('Year')\n",
    "ax.set_ylabel('Number of inbound tourists')"
   ]
  },
  {
   "cell_type": "code",
   "execution_count": null,
   "metadata": {},
   "outputs": [],
   "source": []
  }
 ],
 "metadata": {
  "kernelspec": {
   "display_name": "Python 3",
   "language": "python",
   "name": "python3"
  },
  "language_info": {
   "codemirror_mode": {
    "name": "ipython",
    "version": 3
   },
   "file_extension": ".py",
   "mimetype": "text/x-python",
   "name": "python",
   "nbconvert_exporter": "python",
   "pygments_lexer": "ipython3",
   "version": "3.8.3"
  }
 },
 "nbformat": 4,
 "nbformat_minor": 4
}
